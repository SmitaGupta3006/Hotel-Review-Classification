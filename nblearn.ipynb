{
 "cells": [
  {
   "cell_type": "code",
   "execution_count": 1,
   "metadata": {},
   "outputs": [],
   "source": [
    "from os import walk\n",
    "import re\n",
    "import sys\n",
    "import os\n",
    "import numpy as np\n",
    "import operator\n",
    "import math"
   ]
  },
  {
   "cell_type": "code",
   "execution_count": 2,
   "metadata": {},
   "outputs": [],
   "source": [
    "unique_words = set()\n",
    "train_data = {'0': {},'1':{} ,'2':{} ,'3':{}}\n",
    "exp_per_class = {'0': 0,'1': 0 ,'2':0 ,'3':0}"
   ]
  },
  {
   "cell_type": "code",
   "execution_count": 3,
   "metadata": {},
   "outputs": [],
   "source": [
    "stop_words = set(open(\"stopwords.txt\",\"r\").read().replace('\\n', ' ').split(' ')) "
   ]
  },
  {
   "cell_type": "code",
   "execution_count": 4,
   "metadata": {},
   "outputs": [],
   "source": [
    "input_path = 'op_spam_training_data'"
   ]
  },
  {
   "cell_type": "code",
   "execution_count": 5,
   "metadata": {},
   "outputs": [],
   "source": [
    "def text_cleaning(text):\n",
    "    cleaned_txt = re.sub('[^a-z\\s]+', ' ', text, flags=re.IGNORECASE)\n",
    "    return re.sub('(\\s+)', ' ', cleaned_txt).lower().replace(\"'\", \"\")"
   ]
  },
  {
   "cell_type": "code",
   "execution_count": 6,
   "metadata": {},
   "outputs": [],
   "source": [
    "def category(file_name):\n",
    "    text = open(file_name, 'r').read()\n",
    "    \n",
    "    #Cleaning and splitting the data\n",
    "    cleaned_text = text_cleaning(text)\n",
    "    word_arr = cleaned_text.split(' ')\n",
    "    \n",
    "    #Removing the stop words\n",
    "    word_arr = [each for each in word_arr if each not in stop_words]     \n",
    "    if 'negative_polarity' in file_name:\n",
    "        dict_index = \"0\"\n",
    "    elif 'negative_polarity/truthful' in file_name:\n",
    "        dict_index = \"1\"\n",
    "    elif 'positive_polarity/truthful' in file_name:\n",
    "        dict_index = \"2\"\n",
    "    elif 'positive_polarity/deceptive' in file_name:\n",
    "        dict_index = \"3\"\n",
    "    else:\n",
    "        print(\"Error, no dict_index\")\n",
    "        \n",
    "    exp_per_class[dict_index] += 1\n",
    "\n",
    "    for each in word_arr:\n",
    "        unique_words.add(each)\n",
    "        if each in train_data[dict_index]:\n",
    "            train_data[dict_index][each] += 1\n",
    "        else:\n",
    "            train_data[dict_index][each] = 1"
   ]
  },
  {
   "cell_type": "code",
   "execution_count": 7,
   "metadata": {},
   "outputs": [],
   "source": [
    "for (dirpath, dirnames, filenames) in walk(next(os.walk(input_path))[0]):\n",
    "    for file in filenames:\n",
    "        file_name = os.path.join(dirpath, file)\n",
    "        search_str ='fold2|fold3|fold4'\n",
    "        if bool(re.search(search_str, file_name)):\n",
    "            category(file_name)"
   ]
  },
  {
   "cell_type": "code",
   "execution_count": 8,
   "metadata": {},
   "outputs": [],
   "source": [
    "total_reviews = sum(exp_per_class.values())\n",
    "prob_class = {}\n",
    "for each in exp_per_class.keys():\n",
    "    prob_class[each] = math.log(exp_per_class[each] / total_reviews)"
   ]
  },
  {
   "cell_type": "code",
   "execution_count": 9,
   "metadata": {},
   "outputs": [],
   "source": [
    "mod_v = len(unique_words)\n",
    "\n",
    "train_keys = {}      \n",
    "for key in train_data.keys():\n",
    "    train_keys[key] = sum(train_data[key].values())"
   ]
  },
  {
   "cell_type": "code",
   "execution_count": 11,
   "metadata": {},
   "outputs": [],
   "source": [
    "prob_score = {'0': {},'1':{} ,'2':{} ,'3':{}}\n",
    "for word in unique_words:\n",
    "    for key in train_data:\n",
    "        count_word = (train_data[key][word] + 1) if word in train_data[key] else 1\n",
    "        prob_word = count_word / (train_keys[key] + mod_v + 1)\n",
    "        prob_score[key][word] = math.log(prob_word)"
   ]
  },
  {
   "cell_type": "code",
   "execution_count": 12,
   "metadata": {},
   "outputs": [],
   "source": [
    "result  = {\"pro_each_class\" :prob_class, 'probability_score' : prob_score}\n",
    "with open('nbmodel.txt', 'w') as file:\n",
    "    file.write(str(result).replace(\"'\", \"\\\"\"))\n",
    "    file.close()"
   ]
  },
  {
   "cell_type": "code",
   "execution_count": null,
   "metadata": {},
   "outputs": [],
   "source": []
  }
 ],
 "metadata": {
  "kernelspec": {
   "display_name": "Python 3",
   "language": "python",
   "name": "python3"
  },
  "language_info": {
   "codemirror_mode": {
    "name": "ipython",
    "version": 3
   },
   "file_extension": ".py",
   "mimetype": "text/x-python",
   "name": "python",
   "nbconvert_exporter": "python",
   "pygments_lexer": "ipython3",
   "version": "3.7.6"
  }
 },
 "nbformat": 4,
 "nbformat_minor": 4
}
