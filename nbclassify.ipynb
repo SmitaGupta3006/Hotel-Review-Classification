{
 "cells": [
  {
   "cell_type": "code",
   "execution_count": 1,
   "metadata": {},
   "outputs": [],
   "source": [
    "import sys\n",
    "import re\n",
    "import math\n",
    "import json\n",
    "import operator\n",
    "from os import walk\n",
    "import os"
   ]
  },
  {
   "cell_type": "code",
   "execution_count": 2,
   "metadata": {},
   "outputs": [],
   "source": [
    "input_path = 'op_spam_training_data'"
   ]
  },
  {
   "cell_type": "code",
   "execution_count": 3,
   "metadata": {},
   "outputs": [],
   "source": [
    "stop_words = set(open('stopwords.txt', 'r').read().split('\\n'))"
   ]
  },
  {
   "cell_type": "code",
   "execution_count": 4,
   "metadata": {},
   "outputs": [],
   "source": [
    "def parameters():\n",
    "    with open('nbmodel.txt') as f:\n",
    "        json_data = json.load(f)\n",
    "        return json_data"
   ]
  },
  {
   "cell_type": "code",
   "execution_count": 5,
   "metadata": {},
   "outputs": [],
   "source": [
    "def text_cleaning(text):\n",
    "    cleaned_txt = re.sub('[^a-z\\s]+', ' ', text, flags=re.IGNORECASE)\n",
    "    return re.sub('(\\s+)', ' ', cleaned_txt).lower().replace(\"'\", \"\")"
   ]
  },
  {
   "cell_type": "code",
   "execution_count": 6,
   "metadata": {},
   "outputs": [],
   "source": [
    "def category(file_name):\n",
    "    text = open(file_name, 'r').read()\n",
    "    \n",
    "    #Data cleaning and splitting\n",
    "    cleaned_text = text_cleaning(text)\n",
    "    word_arr = cleaned_text.split(' ')\n",
    "    \n",
    "    # removing stop words\n",
    "    word_arr = [each for each in word_arr if each not in stop_words]  \n",
    "    params = parameters()\n",
    "    prob_class = params['pro_each_class']\n",
    "    prior_prob = params['probability_score']\n",
    "    \n",
    "     # calculate probability of each word\n",
    "    # count of word in class c +1/ counts of words in whole class + modv + 1\n",
    "    prob_sentence = {'0': 0,'1': 0 ,'2':0 ,'3':0}\n",
    "    \n",
    "    for word in word_arr:\n",
    "        for key in prob_sentence.keys():\n",
    "            if word in prior_prob[key]:\n",
    "                prob_sentence[key] += prior_prob[key][word]\n",
    "\n",
    "    # posterior Probability\n",
    "    posterior_prob = {}\n",
    "    for key in prob_sentence.keys():\n",
    "        posterior_prob[key] = prob_sentence[key] + prob_class[key]\n",
    "\n",
    "    return max(posterior_prob.items(), key=operator.itemgetter(1))[0]"
   ]
  },
  {
   "cell_type": "code",
   "execution_count": 7,
   "metadata": {},
   "outputs": [],
   "source": [
    "def category_names(cat):\n",
    "\n",
    "    if cat == \"0\":\n",
    "        return \"deceptive negative\"\n",
    "    elif cat == \"1\":\n",
    "        return \"truthful negative\"\n",
    "    elif cat == \"2\":\n",
    "        return \"truthful positive\"\n",
    "\n",
    "    return \"deceptive positive\""
   ]
  },
  {
   "cell_type": "code",
   "execution_count": 8,
   "metadata": {},
   "outputs": [],
   "source": [
    "output = ''\n",
    "for (dirpath, dirnames, filenames) in walk(next(os.walk(input_path))[0]):\n",
    "    for file in filenames:\n",
    "        file_name = os.path.join(dirpath, file)\n",
    "        search_str ='fold1'\n",
    "        if bool(re.search(search_str, file_name)):\n",
    "            cat = category(file_name)\n",
    "            tag = category_names(cat)\n",
    "            tag = tag +\" \"+ file_name + '\\n'\n",
    "            output += tag\n",
    "\n",
    "with open('nboutput.txt', 'w') as file:\n",
    "    file.write(str(output))\n",
    "    file.close()"
   ]
  },
  {
   "cell_type": "code",
   "execution_count": null,
   "metadata": {},
   "outputs": [],
   "source": []
  }
 ],
 "metadata": {
  "kernelspec": {
   "display_name": "Python 3",
   "language": "python",
   "name": "python3"
  },
  "language_info": {
   "codemirror_mode": {
    "name": "ipython",
    "version": 3
   },
   "file_extension": ".py",
   "mimetype": "text/x-python",
   "name": "python",
   "nbconvert_exporter": "python",
   "pygments_lexer": "ipython3",
   "version": "3.7.6"
  }
 },
 "nbformat": 4,
 "nbformat_minor": 4
}
